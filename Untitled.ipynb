{
 "cells": [
  {
   "cell_type": "code",
   "execution_count": null,
   "id": "3702e858-e8c9-4426-9acd-2534d8d6122c",
   "metadata": {},
   "outputs": [],
   "source": [
    "#!pip install -r requirements.txt"
   ]
  },
  {
   "cell_type": "code",
   "execution_count": null,
   "id": "b2d36b16-a5f5-4ed1-a3ec-d824e5f915f9",
   "metadata": {},
   "outputs": [],
   "source": [
    "Uganda_Data = '1yFWlP5N7Aowaj6t2roRSFFUC50aFD-RLBGfzGtqLl0w'"
   ]
  },
  {
   "cell_type": "code",
   "execution_count": null,
   "id": "0be95461-875d-4b38-a940-1876951ad387",
   "metadata": {},
   "outputs": [],
   "source": [
    "import pandas as pd\n",
    "import numpy as np\n",
    "from eep153_tools.sheets import read_sheets\n",
    "\n",
    "# Change 'Uganda_Data' to key of your own sheet in Sheets, above\n",
    "x = read_sheets(Uganda_Data,sheet='Food Expenditures (2019-20)')\n",
    "x = x.set_index(['i','t','m','j']).squeeze()\n",
    "\n",
    "\n",
    "# Now prices\n",
    "p = read_sheets(Uganda_Data,sheet='Food Prices (2019-20)').set_index(['t','m','j','u'])\n",
    "\n",
    "# Compute medians of prices for particular time, place and unit\n",
    "p = p.groupby(['t','m','j','u']).median()\n",
    "\n",
    "# Just keep metric units\n",
    "p = p.xs('Kg',level=\"u\").squeeze().unstack('j')\n",
    "\n",
    "# Drop prices for goods we don't have expenditures for\n",
    "p = p[x.index.levels[-1]].T\n",
    "\n",
    "# Household characteristics\n",
    "d = read_sheets(Uganda_Data,sheet=\"Household Characteristics\")\n",
    "d.columns.name = 'k'\n",
    "\n",
    "# Fill blanks with zeros\n",
    "d = d.replace(np.nan,0)\n",
    "\n",
    "# Expenditures x may have duplicate columns\n",
    "x = x.T.groupby(['i','t','m','j']).sum()\n",
    "x = x.replace(0,np.nan) # Replace zeros with missing\n",
    "\n",
    "# Take logs of expenditures; call this y\n",
    "y = np.log(x)\n",
    "\n",
    "d.set_index(['i','t','m'],inplace=True)"
   ]
  },
  {
   "cell_type": "code",
   "execution_count": null,
   "id": "1f3cc61f-3306-4127-8e53-2bec9c83b192",
   "metadata": {},
   "outputs": [],
   "source": [
    "d.head()"
   ]
  },
  {
   "cell_type": "code",
   "execution_count": null,
   "id": "248a0839-40c4-4dc5-a32e-63eecbd90e9e",
   "metadata": {},
   "outputs": [],
   "source": [
    "y.head()"
   ]
  },
  {
   "cell_type": "code",
   "execution_count": null,
   "id": "ef312210-53d4-4caf-a729-6b8e8b391c82",
   "metadata": {},
   "outputs": [],
   "source": [
    "from cfe import Regression\n",
    "\n",
    "result = Regression(y=y,d=d)"
   ]
  },
  {
   "cell_type": "code",
   "execution_count": null,
   "id": "f76f812f-410d-48e8-9312-cda97ba75633",
   "metadata": {},
   "outputs": [],
   "source": [
    "result.predicted_expenditures()"
   ]
  },
  {
   "cell_type": "code",
   "execution_count": null,
   "id": "447e34c2-bb22-4f61-ad86-e870754f2a15",
   "metadata": {},
   "outputs": [],
   "source": [
    "%matplotlib inline\n",
    "df = pd.DataFrame({'y':y,'yhat':result.get_predicted_log_expenditures()})\n",
    "df.plot.scatter(x='yhat',y='y')"
   ]
  },
  {
   "cell_type": "code",
   "execution_count": null,
   "id": "86955c51-e961-4d66-be0b-1c31144c91a8",
   "metadata": {},
   "outputs": [],
   "source": [
    "ax = result.graph_beta()"
   ]
  },
  {
   "cell_type": "code",
   "execution_count": null,
   "id": "f8969caa-bc1c-4ecf-a616-0a413c633164",
   "metadata": {},
   "outputs": [],
   "source": [
    "result.get_beta()"
   ]
  },
  {
   "cell_type": "code",
   "execution_count": null,
   "id": "61a24498-f206-4fd9-977a-bc3399816e23",
   "metadata": {},
   "outputs": [],
   "source": []
  },
  {
   "cell_type": "code",
   "execution_count": null,
   "id": "07db6f90-0c18-4565-89df-50ddf8f974db",
   "metadata": {},
   "outputs": [],
   "source": []
  },
  {
   "cell_type": "code",
   "execution_count": null,
   "id": "17051cc9-0fd1-468a-b113-419c12a1ae99",
   "metadata": {},
   "outputs": [],
   "source": []
  }
 ],
 "metadata": {
  "kernelspec": {
   "display_name": "Python 3 (ipykernel)",
   "language": "python",
   "name": "python3"
  },
  "language_info": {
   "codemirror_mode": {
    "name": "ipython",
    "version": 3
   },
   "file_extension": ".py",
   "mimetype": "text/x-python",
   "name": "python",
   "nbconvert_exporter": "python",
   "pygments_lexer": "ipython3",
   "version": "3.11.11"
  }
 },
 "nbformat": 4,
 "nbformat_minor": 5
}
