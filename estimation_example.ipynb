{
 "cells": [
  {
   "cell_type": "markdown",
   "id": "2752065c",
   "metadata": {},
   "source": [
    "## Estimation Example\n",
    "\n"
   ]
  },
  {
   "cell_type": "markdown",
   "id": "59ab5c78",
   "metadata": {},
   "source": [
    "In this document we&rsquo;ll work through a simple approach to estimating\n",
    "Constant Frisch Elasticity (CFE) demand systems.\n",
    "\n",
    "There are two prerequisites; the first is the `CFEDemands` python\n",
    "module.  You may have this already, but if not it  can be installed with a simple:\n",
    "\n"
   ]
  },
  {
   "cell_type": "code",
   "execution_count": 11,
   "id": "ed7f5daa",
   "metadata": {},
   "outputs": [
    {
     "name": "stdout",
     "output_type": "stream",
     "text": [
      "Requirement already satisfied: CFEDemands>=0.6.3.dev0 in /srv/conda/lib/python3.11/site-packages (from -r requirements.txt (line 5)) (0.6.4.dev0)\n",
      "Requirement already satisfied: ConsumerDemands>=0.4.3.dev0 in /srv/conda/lib/python3.11/site-packages (from -r requirements.txt (line 7)) (0.4.3.dev0)\n",
      "Requirement already satisfied: matplotlib>=3.3.4 in /srv/conda/lib/python3.11/site-packages (from -r requirements.txt (line 10)) (3.10.1)\n",
      "Requirement already satisfied: numpy>=1.21.5 in /srv/conda/lib/python3.11/site-packages (from -r requirements.txt (line 14)) (2.2.4)\n",
      "Requirement already satisfied: pandas>=1.3.5 in /srv/conda/lib/python3.11/site-packages (from -r requirements.txt (line 20)) (2.2.3)\n",
      "Requirement already satisfied: plotly>=5.1.0 in /srv/conda/lib/python3.11/site-packages (from -r requirements.txt (line 23)) (6.0.1)\n",
      "Requirement already satisfied: eep153_tools>=0.11 in /srv/conda/lib/python3.11/site-packages (from -r requirements.txt (line 25)) (0.12.4)\n",
      "Requirement already satisfied: python-gnupg in /srv/conda/lib/python3.11/site-packages (from -r requirements.txt (line 26)) (0.5.4)\n",
      "Requirement already satisfied: gspread_pandas>=3.3 in /srv/conda/lib/python3.11/site-packages (from -r requirements.txt (line 28)) (3.3.0)\n",
      "Requirement already satisfied: scikit-learn in /srv/conda/lib/python3.11/site-packages (from -r requirements.txt (line 30)) (1.6.0)\n",
      "Requirement already satisfied: xarray in /srv/conda/lib/python3.11/site-packages (from -r requirements.txt (line 31)) (2025.1.1)\n",
      "Requirement already satisfied: scipy>=1.7.3 in /srv/conda/lib/python3.11/site-packages (from CFEDemands>=0.6.3.dev0->-r requirements.txt (line 5)) (1.14.1)\n",
      "Requirement already satisfied: importlib_metadata>=6.7.0 in /srv/conda/lib/python3.11/site-packages (from CFEDemands>=0.6.3.dev0->-r requirements.txt (line 5)) (8.6.1)\n",
      "Requirement already satisfied: fsspec in /srv/conda/lib/python3.11/site-packages (from CFEDemands>=0.6.3.dev0->-r requirements.txt (line 5)) (2025.3.2)\n",
      "Requirement already satisfied: contourpy>=1.0.1 in /srv/conda/lib/python3.11/site-packages (from matplotlib>=3.3.4->-r requirements.txt (line 10)) (1.3.1)\n",
      "Requirement already satisfied: cycler>=0.10 in /srv/conda/lib/python3.11/site-packages (from matplotlib>=3.3.4->-r requirements.txt (line 10)) (0.12.1)\n",
      "Requirement already satisfied: fonttools>=4.22.0 in /srv/conda/lib/python3.11/site-packages (from matplotlib>=3.3.4->-r requirements.txt (line 10)) (4.56.0)\n",
      "Requirement already satisfied: kiwisolver>=1.3.1 in /srv/conda/lib/python3.11/site-packages (from matplotlib>=3.3.4->-r requirements.txt (line 10)) (1.4.7)\n",
      "Requirement already satisfied: packaging>=20.0 in /srv/conda/lib/python3.11/site-packages (from matplotlib>=3.3.4->-r requirements.txt (line 10)) (24.2)\n",
      "Requirement already satisfied: pillow>=8 in /srv/conda/lib/python3.11/site-packages (from matplotlib>=3.3.4->-r requirements.txt (line 10)) (11.1.0)\n",
      "Requirement already satisfied: pyparsing>=2.3.1 in /srv/conda/lib/python3.11/site-packages (from matplotlib>=3.3.4->-r requirements.txt (line 10)) (3.2.3)\n",
      "Requirement already satisfied: python-dateutil>=2.7 in /srv/conda/lib/python3.11/site-packages (from matplotlib>=3.3.4->-r requirements.txt (line 10)) (2.9.0.post0)\n",
      "Requirement already satisfied: pytz>=2020.1 in /srv/conda/lib/python3.11/site-packages (from pandas>=1.3.5->-r requirements.txt (line 20)) (2024.1)\n",
      "Requirement already satisfied: tzdata>=2022.7 in /srv/conda/lib/python3.11/site-packages (from pandas>=1.3.5->-r requirements.txt (line 20)) (2025.2)\n",
      "Requirement already satisfied: narwhals>=1.15.1 in /srv/conda/lib/python3.11/site-packages (from plotly>=5.1.0->-r requirements.txt (line 23)) (1.33.0)\n",
      "Requirement already satisfied: gspread<6,>=5.0.0 in /srv/conda/lib/python3.11/site-packages (from gspread_pandas>=3.3->-r requirements.txt (line 28)) (5.12.4)\n",
      "Requirement already satisfied: decorator in /srv/conda/lib/python3.11/site-packages (from gspread_pandas>=3.3->-r requirements.txt (line 28)) (5.1.1)\n",
      "Requirement already satisfied: google-auth in /srv/conda/lib/python3.11/site-packages (from gspread_pandas>=3.3->-r requirements.txt (line 28)) (2.38.0)\n",
      "Requirement already satisfied: google-auth-oauthlib in /srv/conda/lib/python3.11/site-packages (from gspread_pandas>=3.3->-r requirements.txt (line 28)) (1.2.1)\n",
      "Requirement already satisfied: joblib>=1.2.0 in /srv/conda/lib/python3.11/site-packages (from scikit-learn->-r requirements.txt (line 30)) (1.4.2)\n",
      "Requirement already satisfied: threadpoolctl>=3.1.0 in /srv/conda/lib/python3.11/site-packages (from scikit-learn->-r requirements.txt (line 30)) (3.6.0)\n",
      "Requirement already satisfied: cachetools<6.0,>=2.0.0 in /srv/conda/lib/python3.11/site-packages (from google-auth->gspread_pandas>=3.3->-r requirements.txt (line 28)) (5.5.2)\n",
      "Requirement already satisfied: pyasn1-modules>=0.2.1 in /srv/conda/lib/python3.11/site-packages (from google-auth->gspread_pandas>=3.3->-r requirements.txt (line 28)) (0.4.2)\n",
      "Requirement already satisfied: rsa<5,>=3.1.4 in /srv/conda/lib/python3.11/site-packages (from google-auth->gspread_pandas>=3.3->-r requirements.txt (line 28)) (4.9)\n",
      "Requirement already satisfied: requests-oauthlib>=0.7.0 in /srv/conda/lib/python3.11/site-packages (from google-auth-oauthlib->gspread_pandas>=3.3->-r requirements.txt (line 28)) (2.0.0)\n",
      "Requirement already satisfied: zipp>=3.20 in /srv/conda/lib/python3.11/site-packages (from importlib_metadata>=6.7.0->CFEDemands>=0.6.3.dev0->-r requirements.txt (line 5)) (3.21.0)\n",
      "Requirement already satisfied: six>=1.5 in /srv/conda/lib/python3.11/site-packages (from python-dateutil>=2.7->matplotlib>=3.3.4->-r requirements.txt (line 10)) (1.17.0)\n",
      "Requirement already satisfied: pyasn1<0.7.0,>=0.6.1 in /srv/conda/lib/python3.11/site-packages (from pyasn1-modules>=0.2.1->google-auth->gspread_pandas>=3.3->-r requirements.txt (line 28)) (0.6.1)\n",
      "Requirement already satisfied: oauthlib>=3.0.0 in /srv/conda/lib/python3.11/site-packages (from requests-oauthlib>=0.7.0->google-auth-oauthlib->gspread_pandas>=3.3->-r requirements.txt (line 28)) (3.2.2)\n",
      "Requirement already satisfied: requests>=2.0.0 in /srv/conda/lib/python3.11/site-packages (from requests-oauthlib>=0.7.0->google-auth-oauthlib->gspread_pandas>=3.3->-r requirements.txt (line 28)) (2.32.3)\n",
      "Requirement already satisfied: charset_normalizer<4,>=2 in /srv/conda/lib/python3.11/site-packages (from requests>=2.0.0->requests-oauthlib>=0.7.0->google-auth-oauthlib->gspread_pandas>=3.3->-r requirements.txt (line 28)) (3.4.0)\n",
      "Requirement already satisfied: idna<4,>=2.5 in /srv/conda/lib/python3.11/site-packages (from requests>=2.0.0->requests-oauthlib>=0.7.0->google-auth-oauthlib->gspread_pandas>=3.3->-r requirements.txt (line 28)) (3.10)\n",
      "Requirement already satisfied: urllib3<3,>=1.21.1 in /srv/conda/lib/python3.11/site-packages (from requests>=2.0.0->requests-oauthlib>=0.7.0->google-auth-oauthlib->gspread_pandas>=3.3->-r requirements.txt (line 28)) (2.3.0)\n",
      "Requirement already satisfied: certifi>=2017.4.17 in /srv/conda/lib/python3.11/site-packages (from requests>=2.0.0->requests-oauthlib>=0.7.0->google-auth-oauthlib->gspread_pandas>=3.3->-r requirements.txt (line 28)) (2025.1.31)\n"
     ]
    }
   ],
   "source": [
    "!pip install -r requirements.txt"
   ]
  },
  {
   "cell_type": "markdown",
   "id": "fc47d94b",
   "metadata": {},
   "source": [
    "The second prerequisite is a dataset including detailed information on\n",
    "household expenditures and characteristics.  The structure of that\n",
    "dataset is detailed in the next section.\n",
    "\n"
   ]
  },
  {
   "cell_type": "markdown",
   "id": "d303fa96",
   "metadata": {},
   "source": [
    "### Data\n",
    "\n"
   ]
  },
  {
   "cell_type": "markdown",
   "id": "dd475f1a",
   "metadata": {},
   "source": [
    "Consider the case in which the data are saved in a google sheet; we&rsquo;ll\n",
    "turn data from these into `pandas` dataframes.\n",
    "There are limits on the allowable size of google sheets (5 million\n",
    "cells when I last checked), so if your dataset is larger than this you&rsquo;ll need some other\n",
    "mechanism to get your data into such dataframes.  Even in this latter\n",
    "case you&rsquo;ll want your dataframes to have a structure that matches the\n",
    "description given below.\n",
    "\n"
   ]
  },
  {
   "cell_type": "markdown",
   "id": "34460509",
   "metadata": {},
   "source": [
    "#### Structure of the Spreadsheet\n",
    "\n"
   ]
  },
  {
   "cell_type": "markdown",
   "id": "bdc47bf4",
   "metadata": {},
   "source": [
    "An example spreadsheet with data for Uganda can be found at\n",
    "[https://docs.google.com/spreadsheets/d/1yFWlP5N7Aowaj6t2roRSFFUC50aFD-RLBGfzGtqLl0w/](https://docs.google.com/spreadsheets/d/1yFWlP5N7Aowaj6t2roRSFFUC50aFD-RLBGfzGtqLl0w/)\n",
    "\n",
    "This spreadsheet consists of several worksheets, labeled &ldquo;RDI&rdquo;, &ldquo;FCT&rdquo;,\n",
    "&ldquo;Household Characteristics&rdquo;, and a series of different years of food expenditures and prices\n",
    "\n",
    "Most worksheets have the initial three columns labeled &ldquo;i&rdquo;, &ldquo;t&rdquo;, and\n",
    "&ldquo;m&rdquo;; together these identify an observation uniquely.  The column &ldquo;i&rdquo;\n",
    "should include a household id; the column &ldquo;t&rdquo; should include an\n",
    "indicator for the year or period (for those of you with\n",
    "cross-sectional data these will all take a common value, e.g., 2019);\n",
    "the column &ldquo;m&rdquo; should be an indicator of &ldquo;market&rdquo;, which may be a\n",
    "region identifier, or may take a single value (e.g., &ldquo;Uganda&rdquo;).\n",
    "\n",
    "The triple (i,t,m) will serve as the index of some constructed\n",
    "dataframes.  It is important not to have **too** many different values\n",
    "for &ldquo;m&rdquo; (unless you have lots of data and RAM to play with).\n",
    "\n",
    "Beyond the first three columns, the &ldquo;Expenditures&rdquo; worksheet for a given year should have one index (or alternatively, one column) for each category of expenditures (e.g., &ldquo;Beans&rdquo;, &ldquo;Beef&rdquo;, &ldquo;Beer&rdquo;,&#x2026;).\n",
    "\n",
    "Beyond the first three columns, the &ldquo;Household Characteristics&rdquo; should\n",
    "have columns corresponding to different elements of the vector of\n",
    "observable characteristics $z$.  If the data permit, I recommend\n",
    "constructing observables that match what I have in these data:\n",
    "namely numbers of different children by age and sex, along with the\n",
    "logarithm of total household size (&ldquo;log HSize&rdquo;).\n",
    "\n"
   ]
  },
  {
   "cell_type": "markdown",
   "id": "679bb7dc",
   "metadata": {},
   "source": [
    "#### From Sheet to DataFrame to Regression Object\n",
    "\n"
   ]
  },
  {
   "cell_type": "markdown",
   "id": "2037dc71",
   "metadata": {},
   "source": [
    "We begin by defining a dictionary that contains the spreadsheet key.\n",
    "One is provided for the Ugandan example that I wish to work\n",
    "through.\n",
    "\n"
   ]
  },
  {
   "cell_type": "code",
   "execution_count": 12,
   "id": "e828ccde",
   "metadata": {},
   "outputs": [],
   "source": [
    "#Uganda_Data = '1yFWlP5N7Aowaj6t2roRSFFUC50aFD-RLBGfzGtqLl0w'\n",
    "Senegal_Data = '1FrCW6vIbpHx9jDfo2tBugmkUn5XoO-j5vE2Z5dLgU0E'"
   ]
  },
  {
   "cell_type": "markdown",
   "id": "52cb9de0",
   "metadata": {},
   "source": [
    "With the spreadsheet defined , grab it and define a couple of\n",
    "dataframes. (Sheets should be shared with `students@eep153.iam.gserviceaccount.com`):\n",
    "\n"
   ]
  },
  {
   "cell_type": "code",
   "execution_count": 13,
   "id": "7fa43bc6",
   "metadata": {},
   "outputs": [],
   "source": [
    "import pandas as pd\n",
    "import numpy as np\n",
    "from eep153_tools.sheets import read_sheets\n",
    "\n",
    "# === 1. Food Expenditures ===\n",
    "#x = read_sheets(Senegal_Data, sheet='Food Expenditures (2019)')\n",
    "x = pd.read_csv(\"Food_Expenditures_T(2019).csv\", header= 0, index_col=0)\n",
    "x = x.set_index(['i', 't', 'm', 'j']).squeeze()\n",
    "\n",
    "# === 2. Food Prices ===\n",
    "#p = read_sheets(Senegal_Data, sheet='Food Prices (2019)').set_index(['t', 'm', 'j', 'u'])\n",
    "p = pd.read_csv('Food_Prices_T(2019).csv', header= 0).set_index(['t', 'm', 'j', 'u'])\n",
    "p = p.drop(columns=[\"Unnamed: 0\", \"Unnamed: 0.1\"])\n",
    "\n",
    "# Compute medians of prices for each (t, m, j, u)\n",
    "p = p.groupby(['t', 'm', 'j', 'u']).median()\n",
    "\n",
    "# Keep only Kg unit\n",
    "p = p.xs('Kg', level=\"u\").squeeze().unstack('j')\n",
    "\n",
    "# Find intersection of goods between price data and expenditure data\n",
    "common_goods = list(set(p.columns).intersection(set(x.index.get_level_values('j'))))\n",
    "\n",
    "# Filter both datasets to those goods\n",
    "p = p[common_goods].T\n",
    "\n",
    "# === 3. Household Characteristics ===\n",
    "#d = read_sheets(Senegal_Data, sheet='Household Characteristics')\n",
    "d = pd.read_csv('Household_Characteristics.csv', header= 0)\n",
    "d.columns.name = 'k'\n",
    "\n",
    "# Replace blanks with zeros\n",
    "d = d.replace(np.nan, 0)\n",
    "\n",
    "# Group expenditures and clean\n",
    "x = x.T.groupby(['i', 't', 'm', 'j']).sum()\n",
    "x = x.replace(0, np.nan)\n",
    "\n",
    "# Take logs of expenditures\n",
    "y = np.log(x)\n",
    "\n",
    "# Set index for household characteristics\n",
    "d.set_index(['i', 't', 'm'], inplace=True)\n",
    "d = d.drop(columns=[\"Unnamed: 0\"])"
   ]
  },
  {
   "cell_type": "markdown",
   "id": "67b54013",
   "metadata": {},
   "source": [
    "This gives a dataframe of household characteristics $d$ with a simple structure.\n",
    "\n"
   ]
  },
  {
   "cell_type": "code",
   "execution_count": 14,
   "id": "29fc77d1",
   "metadata": {},
   "outputs": [
    {
     "data": {
      "text/html": [
       "<div>\n",
       "<style scoped>\n",
       "    .dataframe tbody tr th:only-of-type {\n",
       "        vertical-align: middle;\n",
       "    }\n",
       "\n",
       "    .dataframe tbody tr th {\n",
       "        vertical-align: top;\n",
       "    }\n",
       "\n",
       "    .dataframe thead th {\n",
       "        text-align: right;\n",
       "    }\n",
       "</style>\n",
       "<table border=\"1\" class=\"dataframe\">\n",
       "  <thead>\n",
       "    <tr style=\"text-align: right;\">\n",
       "      <th></th>\n",
       "      <th></th>\n",
       "      <th>k</th>\n",
       "      <th>women</th>\n",
       "      <th>girls</th>\n",
       "      <th>boys</th>\n",
       "      <th>men</th>\n",
       "      <th>Males 00-03</th>\n",
       "      <th>Females 00-03</th>\n",
       "      <th>Males 04-08</th>\n",
       "      <th>Females 04-08</th>\n",
       "      <th>Males 09-13</th>\n",
       "      <th>Females 09-13</th>\n",
       "      <th>Males 14-18</th>\n",
       "      <th>Females 14-18</th>\n",
       "      <th>Males 19-30</th>\n",
       "      <th>Females 19-30</th>\n",
       "      <th>Males 31-50</th>\n",
       "      <th>Females 31-50</th>\n",
       "      <th>Males 51-99</th>\n",
       "      <th>Females 51-99</th>\n",
       "      <th>log HSize</th>\n",
       "    </tr>\n",
       "    <tr>\n",
       "      <th>i</th>\n",
       "      <th>t</th>\n",
       "      <th>m</th>\n",
       "      <th></th>\n",
       "      <th></th>\n",
       "      <th></th>\n",
       "      <th></th>\n",
       "      <th></th>\n",
       "      <th></th>\n",
       "      <th></th>\n",
       "      <th></th>\n",
       "      <th></th>\n",
       "      <th></th>\n",
       "      <th></th>\n",
       "      <th></th>\n",
       "      <th></th>\n",
       "      <th></th>\n",
       "      <th></th>\n",
       "      <th></th>\n",
       "      <th></th>\n",
       "      <th></th>\n",
       "      <th></th>\n",
       "    </tr>\n",
       "  </thead>\n",
       "  <tbody>\n",
       "    <tr>\n",
       "      <th>11011</th>\n",
       "      <th>2018</th>\n",
       "      <th>ziguinchor</th>\n",
       "      <td>0</td>\n",
       "      <td>0</td>\n",
       "      <td>0</td>\n",
       "      <td>1</td>\n",
       "      <td>0</td>\n",
       "      <td>0</td>\n",
       "      <td>0</td>\n",
       "      <td>0</td>\n",
       "      <td>0</td>\n",
       "      <td>0</td>\n",
       "      <td>0</td>\n",
       "      <td>0</td>\n",
       "      <td>0</td>\n",
       "      <td>0</td>\n",
       "      <td>0</td>\n",
       "      <td>0</td>\n",
       "      <td>1</td>\n",
       "      <td>0</td>\n",
       "      <td>0.000000</td>\n",
       "    </tr>\n",
       "    <tr>\n",
       "      <th>110110</th>\n",
       "      <th>2018</th>\n",
       "      <th>ziguinchor</th>\n",
       "      <td>1</td>\n",
       "      <td>1</td>\n",
       "      <td>1</td>\n",
       "      <td>1</td>\n",
       "      <td>0</td>\n",
       "      <td>0</td>\n",
       "      <td>0</td>\n",
       "      <td>0</td>\n",
       "      <td>1</td>\n",
       "      <td>0</td>\n",
       "      <td>0</td>\n",
       "      <td>1</td>\n",
       "      <td>1</td>\n",
       "      <td>0</td>\n",
       "      <td>0</td>\n",
       "      <td>1</td>\n",
       "      <td>0</td>\n",
       "      <td>0</td>\n",
       "      <td>1.386294</td>\n",
       "    </tr>\n",
       "    <tr>\n",
       "      <th>110111</th>\n",
       "      <th>2018</th>\n",
       "      <th>ziguinchor</th>\n",
       "      <td>0</td>\n",
       "      <td>0</td>\n",
       "      <td>2</td>\n",
       "      <td>2</td>\n",
       "      <td>0</td>\n",
       "      <td>0</td>\n",
       "      <td>0</td>\n",
       "      <td>0</td>\n",
       "      <td>0</td>\n",
       "      <td>0</td>\n",
       "      <td>2</td>\n",
       "      <td>0</td>\n",
       "      <td>1</td>\n",
       "      <td>0</td>\n",
       "      <td>1</td>\n",
       "      <td>0</td>\n",
       "      <td>0</td>\n",
       "      <td>0</td>\n",
       "      <td>1.386294</td>\n",
       "    </tr>\n",
       "    <tr>\n",
       "      <th>110112</th>\n",
       "      <th>2018</th>\n",
       "      <th>ziguinchor</th>\n",
       "      <td>2</td>\n",
       "      <td>0</td>\n",
       "      <td>0</td>\n",
       "      <td>0</td>\n",
       "      <td>0</td>\n",
       "      <td>0</td>\n",
       "      <td>0</td>\n",
       "      <td>0</td>\n",
       "      <td>0</td>\n",
       "      <td>0</td>\n",
       "      <td>0</td>\n",
       "      <td>1</td>\n",
       "      <td>0</td>\n",
       "      <td>0</td>\n",
       "      <td>0</td>\n",
       "      <td>0</td>\n",
       "      <td>0</td>\n",
       "      <td>1</td>\n",
       "      <td>0.693147</td>\n",
       "    </tr>\n",
       "    <tr>\n",
       "      <th>11012</th>\n",
       "      <th>2018</th>\n",
       "      <th>ziguinchor</th>\n",
       "      <td>2</td>\n",
       "      <td>4</td>\n",
       "      <td>2</td>\n",
       "      <td>2</td>\n",
       "      <td>0</td>\n",
       "      <td>0</td>\n",
       "      <td>0</td>\n",
       "      <td>1</td>\n",
       "      <td>1</td>\n",
       "      <td>1</td>\n",
       "      <td>1</td>\n",
       "      <td>2</td>\n",
       "      <td>1</td>\n",
       "      <td>1</td>\n",
       "      <td>0</td>\n",
       "      <td>1</td>\n",
       "      <td>1</td>\n",
       "      <td>0</td>\n",
       "      <td>2.302585</td>\n",
       "    </tr>\n",
       "  </tbody>\n",
       "</table>\n",
       "</div>"
      ],
      "text/plain": [
       "k                       women  girls  boys  men  Males 00-03  Females 00-03  \\\n",
       "i      t    m                                                                 \n",
       "11011  2018 ziguinchor      0      0     0    1            0              0   \n",
       "110110 2018 ziguinchor      1      1     1    1            0              0   \n",
       "110111 2018 ziguinchor      0      0     2    2            0              0   \n",
       "110112 2018 ziguinchor      2      0     0    0            0              0   \n",
       "11012  2018 ziguinchor      2      4     2    2            0              0   \n",
       "\n",
       "k                       Males 04-08  Females 04-08  Males 09-13  \\\n",
       "i      t    m                                                     \n",
       "11011  2018 ziguinchor            0              0            0   \n",
       "110110 2018 ziguinchor            0              0            1   \n",
       "110111 2018 ziguinchor            0              0            0   \n",
       "110112 2018 ziguinchor            0              0            0   \n",
       "11012  2018 ziguinchor            0              1            1   \n",
       "\n",
       "k                       Females 09-13  Males 14-18  Females 14-18  \\\n",
       "i      t    m                                                       \n",
       "11011  2018 ziguinchor              0            0              0   \n",
       "110110 2018 ziguinchor              0            0              1   \n",
       "110111 2018 ziguinchor              0            2              0   \n",
       "110112 2018 ziguinchor              0            0              1   \n",
       "11012  2018 ziguinchor              1            1              2   \n",
       "\n",
       "k                       Males 19-30  Females 19-30  Males 31-50  \\\n",
       "i      t    m                                                     \n",
       "11011  2018 ziguinchor            0              0            0   \n",
       "110110 2018 ziguinchor            1              0            0   \n",
       "110111 2018 ziguinchor            1              0            1   \n",
       "110112 2018 ziguinchor            0              0            0   \n",
       "11012  2018 ziguinchor            1              1            0   \n",
       "\n",
       "k                       Females 31-50  Males 51-99  Females 51-99  log HSize  \n",
       "i      t    m                                                                 \n",
       "11011  2018 ziguinchor              0            1              0   0.000000  \n",
       "110110 2018 ziguinchor              1            0              0   1.386294  \n",
       "110111 2018 ziguinchor              0            0              0   1.386294  \n",
       "110112 2018 ziguinchor              0            0              1   0.693147  \n",
       "11012  2018 ziguinchor              1            1              0   2.302585  "
      ]
     },
     "execution_count": 14,
     "metadata": {},
     "output_type": "execute_result"
    }
   ],
   "source": [
    "d.head()"
   ]
  },
  {
   "cell_type": "markdown",
   "id": "4287b4b6",
   "metadata": {},
   "source": [
    "Also a dataframe of log expenditures $y$ with a similarly simple\n",
    "structure.  Note that any expenditures of zero are dropped and\n",
    "replaced with a missing value indicator.\n",
    "\n"
   ]
  },
  {
   "cell_type": "code",
   "execution_count": 15,
   "id": "33a01d59",
   "metadata": {},
   "outputs": [
    {
     "data": {
      "text/plain": [
       "i    t     m      j                           \n",
       "221  2019  dakar  Beef                            8.006368\n",
       "                  Cabbage                         4.605170\n",
       "                  Caramel, candy, sweets, etc.    5.703782\n",
       "                  Carrot                          4.605170\n",
       "                  Cassava                         4.605170\n",
       "Name: Expenditure, dtype: float64"
      ]
     },
     "execution_count": 15,
     "metadata": {},
     "output_type": "execute_result"
    }
   ],
   "source": [
    "y.head()"
   ]
  },
  {
   "cell_type": "markdown",
   "id": "edb6dc9a",
   "metadata": {},
   "source": [
    "### Estimation\n",
    "\n"
   ]
  },
  {
   "cell_type": "markdown",
   "id": "a558b89d",
   "metadata": {},
   "source": [
    "Let $y_{i}^j$ be log expenditures on food $j$ by household $i$ at a particular time.  We want to estimate a regression that takes the form\n",
    "$$\n",
    "      y^j_{i} = A^j(p) + \\gamma_j'd_i + \\beta_j w_i + \\zeta^j_i.\n",
    "$$\n",
    "We have data on `y` (log expenditures) and `d` (household characteristics).  This leaves the rest of the elements for us to estimate.\n",
    "\n"
   ]
  },
  {
   "cell_type": "markdown",
   "id": "90cf96be",
   "metadata": {},
   "source": [
    "#### Basic Estimation\n",
    "\n"
   ]
  },
  {
   "cell_type": "markdown",
   "id": "92d3e062",
   "metadata": {},
   "source": [
    "Just one line to set up the regression:\n",
    "\n"
   ]
  },
  {
   "cell_type": "code",
   "execution_count": 16,
   "id": "a9d49933",
   "metadata": {},
   "outputs": [],
   "source": [
    "from cfe import Regression\n",
    "\n",
    "result = Regression(y=y,d=d)"
   ]
  },
  {
   "cell_type": "markdown",
   "id": "9c556823",
   "metadata": {},
   "source": [
    "And then one line to predict expenditures and estimate most of the things we need:\n",
    "\n"
   ]
  },
  {
   "cell_type": "code",
   "execution_count": null,
   "id": "ad60c33c",
   "metadata": {},
   "outputs": [],
   "source": [
    "result.predicted_expenditures()"
   ]
  },
  {
   "cell_type": "markdown",
   "id": "b0ac2267",
   "metadata": {},
   "source": [
    "Now we can compare predicted log expenditures with actual:\n",
    "\n"
   ]
  },
  {
   "cell_type": "code",
   "execution_count": null,
   "id": "df3120f0",
   "metadata": {},
   "outputs": [],
   "source": [
    "%matplotlib inline\n",
    "df = pd.DataFrame({'y':y,'yhat':result.get_predicted_log_expenditures()})\n",
    "df.plot.scatter(x='yhat',y='y')\n",
    "df"
   ]
  },
  {
   "cell_type": "markdown",
   "id": "7c51b39a",
   "metadata": {},
   "source": [
    "That&rsquo;s all there is to estimation!  Note that we didn&rsquo;t estimate\n",
    "demands for all goods&#x2014;lots of goods didn&rsquo;t have enough observations,\n",
    "and were automatically dropped.\n",
    "\n"
   ]
  },
  {
   "cell_type": "markdown",
   "id": "b5c3d9f2",
   "metadata": {},
   "source": [
    "#### Parameters\n",
    "\n"
   ]
  },
  {
   "cell_type": "markdown",
   "id": "40f0835b",
   "metadata": {},
   "source": [
    "##### (Relative) Income Elasticity\n",
    "\n"
   ]
  },
  {
   "cell_type": "markdown",
   "id": "15eac7d8",
   "metadata": {},
   "source": [
    "Some of the parameters have an interesting interpretation.  First among these are the $\\beta$ coefficients, which govern how *income elastic* different goods are (higher values means more elastic).  These are also called *Frisch elasticities*.\n",
    "Here we use a plot to visualize, with confidence intervals.\n",
    "\n"
   ]
  },
  {
   "cell_type": "code",
   "execution_count": null,
   "id": "d5070bbb",
   "metadata": {},
   "outputs": [],
   "source": [
    "ax = result.graph_beta()"
   ]
  },
  {
   "cell_type": "markdown",
   "id": "de514882",
   "metadata": {},
   "source": [
    "To just see the values of $\\beta$:\n",
    "\n"
   ]
  },
  {
   "cell_type": "code",
   "execution_count": null,
   "id": "45288802",
   "metadata": {},
   "outputs": [],
   "source": [
    "result.get_beta()"
   ]
  },
  {
   "cell_type": "markdown",
   "id": "45e201b5",
   "metadata": {},
   "source": [
    "##### Demand and Household Composition\n",
    "\n"
   ]
  },
  {
   "cell_type": "markdown",
   "id": "5b3a22a3",
   "metadata": {},
   "source": [
    "We&rsquo;re particularly interested in the effects of household composition on demand.  These are captured by the $\\gamma_j$ parameters in the regression.\n",
    "\n"
   ]
  },
  {
   "cell_type": "code",
   "execution_count": null,
   "id": "f9c49159",
   "metadata": {},
   "outputs": [],
   "source": [
    "result.get_gamma()"
   ]
  },
  {
   "cell_type": "markdown",
   "id": "26af7cad",
   "metadata": {},
   "source": [
    "##### Welfare\n",
    "\n"
   ]
  },
  {
   "cell_type": "markdown",
   "id": "9d7f4011",
   "metadata": {},
   "source": [
    "Another import quantity we estimate is $w_i$.  This is a welfare measure for the household.  Here&rsquo;s a histogram:\n",
    "\n"
   ]
  },
  {
   "cell_type": "code",
   "execution_count": null,
   "id": "70ac83c2",
   "metadata": {},
   "outputs": [],
   "source": [
    "ax = result.get_w().plot.hist(bins=100,density=True)\n",
    "result.get_w().plot.kde(ax=ax)"
   ]
  },
  {
   "cell_type": "markdown",
   "id": "8f8e8ec2",
   "metadata": {},
   "source": [
    "#### Saving Result\n",
    "\n"
   ]
  },
  {
   "cell_type": "markdown",
   "id": "9ede5075",
   "metadata": {},
   "source": [
    "You can save the estimated result, using something like\n",
    "\n"
   ]
  },
  {
   "cell_type": "code",
   "execution_count": null,
   "id": "fc8d75e0",
   "metadata": {},
   "outputs": [],
   "source": [
    "# Save the regression result\n",
    "result.to_pickle('senegal_estimates.rgsn')"
   ]
  },
  {
   "cell_type": "markdown",
   "id": "018d66a1",
   "metadata": {},
   "source": [
    "You can subsequently load this using\n",
    "\n"
   ]
  },
  {
   "cell_type": "code",
   "execution_count": null,
   "id": "23e480d7",
   "metadata": {},
   "outputs": [],
   "source": [
    "import cfe\n",
    "result = cfe.regression.read_pickle('senegal_estimates.rgsn')"
   ]
  },
  {
   "cell_type": "markdown",
   "id": "ae964690",
   "metadata": {},
   "source": [
    "#### Demand and Utility\n",
    "\n"
   ]
  },
  {
   "cell_type": "markdown",
   "id": "cb5da62d",
   "metadata": {},
   "source": [
    "Having estimated the demand system, we can examine the implied demand curves.\n",
    "\n"
   ]
  },
  {
   "cell_type": "markdown",
   "id": "155683e2",
   "metadata": {},
   "source": [
    "##### Budgets\n",
    "\n"
   ]
  },
  {
   "cell_type": "markdown",
   "id": "7a7c0957",
   "metadata": {},
   "source": [
    "Get food budget for all households, then find median budget:\n",
    "\n"
   ]
  },
  {
   "cell_type": "code",
   "execution_count": null,
   "id": "98c25b09",
   "metadata": {},
   "outputs": [],
   "source": [
    "import numpy as np\n",
    "\n",
    "# Get predicted expenditures\n",
    "xhat = result.predicted_expenditures()\n",
    "\n",
    "# Total food expenditures per household (i, t, m)\n",
    "xbar = xhat.groupby(['i', 't', 'm']).sum()\n",
    "\n",
    "# Reference budget: median household's budget\n",
    "xref = xbar.quantile(0.5)  # 50th percentile"
   ]
  },
  {
   "cell_type": "markdown",
   "id": "738d2a4b",
   "metadata": {},
   "source": [
    "##### Reference Prices\n",
    "\n"
   ]
  },
  {
   "cell_type": "markdown",
   "id": "3b4b2734",
   "metadata": {},
   "source": [
    "Choose reference prices.  Here we&rsquo;ll choose a particular year, and average prices across markets.  If you wanted to focus on particular market you&rsquo;d do this differently.\n",
    "\n"
   ]
  },
  {
   "cell_type": "code",
   "execution_count": null,
   "id": "bb480ca4",
   "metadata": {},
   "outputs": [],
   "source": [
    "# Step 1: Average prices across markets\n",
    "pbar = p.mean(axis=1)  # average over markets (axis=1)\n",
    "\n",
    "# Step 2: Keep only goods that exist in both price data and estimated betas\n",
    "estimated_goods = result.beta.index             # goods estimated by the model\n",
    "available_goods = pbar.index                    # goods for which we have price data\n",
    "common_goods = estimated_goods.intersection(available_goods)  # safe intersection\n",
    "pbar = pbar.loc[common_goods]\n",
    "\n",
    "# Step 3: Replace any missing values with 1 (for stability in simulations)\n",
    "pbar = pbar.replace(np.nan, 1)\n",
    "\n",
    "def my_prices(p0, j, p=pbar):\n",
    "    \"\"\"\n",
    "    Change price of j-th good to p0, holding other prices fixed.\n",
    "    \n",
    "    Parameters:\n",
    "    p0: new price to set\n",
    "    j:  name of the good (string)\n",
    "    p:  reference price vector (default: pbar)\n",
    "    \"\"\"\n",
    "    p = p.copy()\n",
    "    p.loc[j] = p0\n",
    "    return p"
   ]
  },
  {
   "cell_type": "markdown",
   "id": "7b4ca230",
   "metadata": {},
   "source": [
    "##### Demand as a function of prices\n",
    "\n"
   ]
  },
  {
   "cell_type": "markdown",
   "id": "ede54862",
   "metadata": {},
   "source": [
    "Let&rsquo;s take a look at demand schedules for households with different budgets.\n",
    "\n"
   ]
  },
  {
   "cell_type": "code",
   "execution_count": null,
   "id": "e26b0082",
   "metadata": {},
   "outputs": [],
   "source": [
    "pbar.head()"
   ]
  },
  {
   "cell_type": "code",
   "execution_count": null,
   "id": "31fe687d",
   "metadata": {},
   "outputs": [],
   "source": [
    "import matplotlib.pyplot as plt\n",
    "import numpy as np\n",
    "\n",
    "#Step 1: Get average price per good from the data\n",
    "pbar_full = p.mean(axis=1)  # Average across markets\n",
    "\n",
    "#Step 2: Reindex to match the order of goods used in the regression model\n",
    "goods = result.beta.index  # This is the correct good order expected by the model\n",
    "pbar = pbar_full.reindex(goods)  # Align price vector to match model order\n",
    "\n",
    "#Step 3: Fill any missing prices with 1 (to avoid errors)\n",
    "pbar = pbar.fillna(1)\n",
    "\n",
    "#Step 4: Choose a good from the list (make sure it's in result.beta.index)\n",
    "print(\"Available goods:\", list(pbar.index))\n",
    "use = 'Beef'  # Replace with another valid good if needed\n",
    "\n",
    "#Step 5: Define a safe price-change function\n",
    "def my_prices(p0, j, p=pbar):\n",
    "    p = p.copy()\n",
    "    p.loc[j] = p0\n",
    "    return p\n",
    "\n",
    "#Step 6: Plot demand curve\n",
    "scale = np.linspace(0.5, 2, 20)\n",
    "\n",
    "#Demand at median budget\n",
    "plt.plot(\n",
    "    [result.demands(xref, my_prices(pbar[use] * s, use))[use] for s in scale],\n",
    "    scale,\n",
    "    label='Median HH'\n",
    ")\n",
    "\n",
    "#25th percentile budget\n",
    "plt.plot(\n",
    "    [result.demands(xbar.quantile(0.25), my_prices(pbar[use] * s, use))[use] for s in scale],\n",
    "    scale,\n",
    "    label='25th %ile HH'\n",
    ")\n",
    "\n",
    "#75th percentile budget\n",
    "plt.plot(\n",
    "    [result.demands(xbar.quantile(0.75), my_prices(pbar[use] * s, use))[use] for s in scale],\n",
    "    scale,\n",
    "    label='75th %ile HH'\n",
    ")\n",
    "\n",
    "#Step 7: Final plot formatting\n",
    "plt.xlabel(f\"Quantities of {use} Demanded\")\n",
    "plt.ylabel(f\"Price (relative to base of {pbar[use]:.2f})\")\n",
    "plt.title(f\"Demand Curve for {use}\")\n",
    "plt.legend()\n",
    "plt.grid(True)\n",
    "plt.show()"
   ]
  },
  {
   "cell_type": "markdown",
   "id": "05cfa7aa",
   "metadata": {},
   "source": [
    "##### Engel Curves\n",
    "\n"
   ]
  },
  {
   "cell_type": "markdown",
   "id": "ceb1f58f",
   "metadata": {},
   "source": [
    "Engel curves trace out how demand changes with budget:\n",
    "\n"
   ]
  },
  {
   "cell_type": "code",
   "execution_count": null,
   "id": "77126237",
   "metadata": {},
   "outputs": [],
   "source": [
    "# Step 1: Normalize reference prices so their average is 1\n",
    "pbar_normalized = pbar / pbar.mean()\n",
    "\n",
    "# Step 2: Recalculate Engel curves with normalized pbar\n",
    "fig, ax = plt.subplots()\n",
    "\n",
    "ax.plot(\n",
    "    np.log(scale * xref),\n",
    "    [result.expenditures(s * xref, pbar_normalized) / (s * xref) for s in scale]\n",
    ")\n",
    "\n",
    "ax.set_xlabel(f\"log budget (relative to base of {xref:.0f})\")\n",
    "ax.set_ylabel(\"Expenditure share\")\n",
    "ax.set_title(\"Engel Curves (Normalized Prices)\")\n",
    "\n",
    "plt.show()"
   ]
  },
  {
   "cell_type": "code",
   "execution_count": null,
   "id": "fa1b2aeb-4c97-4bfb-8d18-51a1e14e2abb",
   "metadata": {},
   "outputs": [],
   "source": [
    "# Expenditure shares at base budget\n",
    "shares = result.expenditures(xref, pbar) / xref\n",
    "shares.sort_values(ascending=False).head(10)"
   ]
  },
  {
   "cell_type": "markdown",
   "id": "126f2b0b-0a17-43e3-80c6-c0f5789e3ff8",
   "metadata": {},
   "source": [
    "Engel Curve of Top 5 Non-Dominant Goods (exclude Huile de soja / végétale):"
   ]
  },
  {
   "cell_type": "code",
   "execution_count": null,
   "id": "53bc4f51-ae1c-4a2a-8d6e-b1dada5ce412",
   "metadata": {},
   "outputs": [],
   "source": [
    "import numpy as np\n",
    "import matplotlib.pyplot as plt\n",
    "import consumerdemands._core as core\n",
    "\n",
    "# Loosen solver tolerance to avoid convergence issues\n",
    "core.default_solver_tolerance = 1e-8\n",
    "\n",
    "# Step 1: Define scale\n",
    "scale = np.linspace(0.5, 2, 20)\n",
    "\n",
    "# Step 2: Calculate expenditure shares\n",
    "shares = result.expenditures(xref, pbar) / xref\n",
    "dominant_good = shares.sort_values(ascending=False).index[0]\n",
    "top_goods = shares.drop(dominant_good).sort_values(ascending=False).head(5).index\n",
    "\n",
    "# Step 3: Compute Engel curves using full price vector\n",
    "fig, ax = plt.subplots()\n",
    "\n",
    "for g in top_goods:\n",
    "    share_curve = []\n",
    "    for s in scale:\n",
    "        try:\n",
    "            demands = result.demands(s * xref, pbar)\n",
    "            share = demands[g] * pbar[g] / (s * xref)\n",
    "            share_curve.append(share)\n",
    "        except Exception as e:\n",
    "            print(f\"Skipped {g} at scale {s} due to error: {e}\")\n",
    "            share_curve.append(np.nan)\n",
    "    \n",
    "    ax.plot(np.log(scale * xref), share_curve, label=g)\n",
    "\n",
    "# Step 4: Plot formatting\n",
    "ax.set_xlabel(f\"log budget (relative to base of {xref:.0f})\")\n",
    "ax.set_ylabel(\"Expenditure share\")\n",
    "ax.set_title(\"Engel Curves (Top 5 Non-Dominant Goods)\")\n",
    "ax.legend()\n",
    "plt.show()"
   ]
  },
  {
   "cell_type": "code",
   "execution_count": null,
   "id": "4ea63663-17eb-4530-b738-6c98c7f81ffa",
   "metadata": {},
   "outputs": [],
   "source": [
    "# Step 1: Compute expenditure shares at base budget\n",
    "shares = result.expenditures(xref, pbar) / xref\n",
    "\n",
    "# Step 2: Drop dominant good (the one with the highest share)\n",
    "shares_no_dominant = shares.sort_values(ascending=False).iloc[1:]\n",
    "goods_to_plot = shares_no_dominant.index\n",
    "\n",
    "# Step 3: Budget scaling range\n",
    "scale = np.linspace(0.5, 2, 20)\n",
    "\n",
    "# Step 4: Plot Engel curves\n",
    "fig, ax = plt.subplots(figsize=(12, 7))\n",
    "\n",
    "for g in goods_to_plot:\n",
    "    share_curve = [\n",
    "        result.demands(s * xref, pbar)[g] * pbar[g] / (s * xref)\n",
    "        for s in scale\n",
    "    ]\n",
    "    ax.plot(np.log(scale * xref), share_curve, label=g)\n",
    "\n",
    "# Step 5: Labels, legend, formatting\n",
    "ax.set_xlabel(f\"log budget (relative to base of {xref:.0f})\")\n",
    "ax.set_ylabel(\"Expenditure share\")\n",
    "ax.set_title(\"Engel Curves (All Goods Except Dominant)\")\n",
    "ax.legend(fontsize=6, loc='center left', bbox_to_anchor=(1.05, 0.5), ncol=2)\n",
    "plt.tight_layout()\n",
    "plt.show()"
   ]
  },
  {
   "cell_type": "markdown",
   "id": "160d744c",
   "metadata": {},
   "source": [
    "##### Indirect Utility\n",
    "\n"
   ]
  },
  {
   "cell_type": "markdown",
   "id": "dbb6bbc2",
   "metadata": {},
   "source": [
    "We can also describe an indirect utility function that corresponds to these demands:\n",
    "\n"
   ]
  },
  {
   "cell_type": "code",
   "execution_count": 142,
   "id": "8d9060a4",
   "metadata": {},
   "outputs": [
    {
     "data": {
      "image/png": "[encoded data removed]",
      "text/plain": [
       "<Figure size 640x480 with 1 Axes>"
      ]
     },
     "metadata": {},
     "output_type": "display_data"
    }
   ],
   "source": [
    "# Plot the indirect utility function over scaled budgets\n",
    "fig, ax = plt.subplots()\n",
    "\n",
    "# Compute utility values for different scaled budgets\n",
    "utilities = [result.indirect_utility(s * xref, pbar) for s in scale]\n",
    "\n",
    "# Plot\n",
    "ax.plot(scale * xref, utilities)\n",
    "ax.set_xlabel(f\"Indirect Utility (Budget relative to base of {xref:.0f})\")\n",
    "ax.set_ylabel(\"Utility\")\n",
    "ax.set_title(\"Indirect Utility Function\")\n",
    "plt.show()"
   ]
  }
 ],
 "metadata": {
  "kernelspec": {
   "display_name": "Python 3 (ipykernel)",
   "language": "python",
   "name": "python3"
  },
  "language_info": {
   "codemirror_mode": {
    "name": "ipython",
    "version": 3
   },
   "file_extension": ".py",
   "mimetype": "text/x-python",
   "name": "python",
   "nbconvert_exporter": "python",
   "pygments_lexer": "ipython3",
   "version": "3.11.11"
  },
  "org": null
 },
 "nbformat": 4,
 "nbformat_minor": 5
}
